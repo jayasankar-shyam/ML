{
 "cells": [
  {
   "cell_type": "code",
   "execution_count": null,
   "id": "2c50aa08",
   "metadata": {},
   "outputs": [],
   "source": [
    "import pandas as pd\n",
    "from sklearn.tree import DecisionTreeClassifier\n",
    "data = pd.read_csv('ADL_202_ex.csv')\n",
    "X=data.drop(columns=['Sl No','Gender'])\n",
    "y=data['Gender']\n",
    "\n",
    "model=DecisionTreeClassifier()\n",
    "model.fit(X.values, y)\n",
    "n=int(input(\"Enter the mark: \"))\n",
    "if model.predict([[n]]) == 'm':\n",
    "    print(\"Male\")\n",
    "else:\n",
    "    print(\"Female\")"
   ]
  },
  {
   "cell_type": "code",
   "execution_count": null,
   "id": "4ba2e8be",
   "metadata": {},
   "outputs": [],
   "source": []
  }
 ],
 "metadata": {
  "kernelspec": {
   "display_name": "Python 3 (ipykernel)",
   "language": "python",
   "name": "python3"
  },
  "language_info": {
   "codemirror_mode": {
    "name": "ipython",
    "version": 3
   },
   "file_extension": ".py",
   "mimetype": "text/x-python",
   "name": "python",
   "nbconvert_exporter": "python",
   "pygments_lexer": "ipython3",
   "version": "3.10.4"
  }
 },
 "nbformat": 4,
 "nbformat_minor": 5
}
